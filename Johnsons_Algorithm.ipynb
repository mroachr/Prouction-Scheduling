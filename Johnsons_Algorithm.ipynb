{
  "nbformat": 4,
  "nbformat_minor": 0,
  "metadata": {
    "colab": {
      "name": "Johnsons_Algorithm.ipynb",
      "provenance": [],
      "collapsed_sections": []
    },
    "kernelspec": {
      "name": "python3",
      "display_name": "Python 3"
    },
    "language_info": {
      "name": "python"
    }
  },
  "cells": [
    {
      "cell_type": "markdown",
      "metadata": {
        "id": "VVL1PLP0QD1_"
      },
      "source": [
        "# Creating a Scheduler Object Using Johnsons Algorithm"
      ]
    },
    {
      "cell_type": "code",
      "metadata": {
        "id": "ZiIjij83OYPm"
      },
      "source": [
        "import pandas as pd\n",
        "import numpy as np\n",
        "import matplotlib.pyplot as plt\n",
        "\n",
        "class Scheduler:\n",
        "  def __init__(self, jobs_dataframe):\n",
        "    self.jobs = jobs_dataframe\n",
        "  \n",
        "  def johnsons_algorithm(self):\n",
        "    \"\"\"Sorts jobs according to Johnsons algorithm/rule\"\"\"\n",
        "    n = len(self.jobs)\n",
        "    jobs_temp = self.jobs.copy()\n",
        "    order = [0 for i in range(n)]\n",
        "    for i in range(n):\n",
        "      Amin = jobs_temp.P_A.min()\n",
        "      Bmin = jobs_temp.P_B.min()\n",
        "      Amin_index = jobs_temp.P_A.idxmin()\n",
        "      Bmin_index = jobs_temp.P_B.idxmin()\n",
        "      if Amin <= Bmin:\n",
        "        i_del = Amin_index\n",
        "        i_order = order.index(0)\n",
        "        job_index = Amin_index\n",
        "      else:\n",
        "        i_del = Bmin_index\n",
        "        i_order = n -  1 - order[::-1].index(0)\n",
        "        job_index = Bmin_index\n",
        "      order[i_order] = job_index\n",
        "      jobs_temp = jobs_temp.drop(i_del)\n",
        "    self.jobs = pd.DataFrame([jobs.loc[i] for i in order])\n",
        "\n",
        "  def schedule_start_end(self):\n",
        "    \"\"\"Calculates start and end times/dates for each job\"\"\"\n",
        "    n = len(self.jobs)\n",
        "    schedule = self.jobs.copy()\n",
        "    schedule['start_A'] = np.zeros(n)\n",
        "    schedule['end_A'] = np.zeros(n)\n",
        "    schedule['start_B'] = np.zeros(n)\n",
        "    schedule['end_B'] = np.zeros(n)\n",
        "    for i in range(n):\n",
        "      if i == 0:\n",
        "        schedule.start_A.iloc[i] = 0\n",
        "      else:\n",
        "        schedule.start_A.iloc[i] = schedule.end_A.iloc[i - 1]\n",
        "      schedule.end_A.iloc[i] = schedule.start_A.iloc[i] + schedule.P_A.iloc[i]\n",
        "      if i == 0:\n",
        "        schedule.start_B.iloc[i] = schedule.end_A.iloc[i]\n",
        "      else:\n",
        "        schedule.start_B.iloc[i] = max([schedule.end_A.iloc[i], schedule.end_B.iloc[i - 1]])\n",
        "      schedule.end_B.iloc[i] = schedule.start_B.iloc[i] + schedule.P_B.iloc[i]\n",
        "    self.schedule = schedule\n",
        "\n",
        "  def plot_schedule(self, color_map=plt.cm.Set3, plot_size=(15, 5)):\n",
        "    \"\"\"Plots the production schedule as a Gantt chart\"\"\"\n",
        "    fig, ax = plt.subplots(figsize=plot_size)\n",
        "    colors = iter([color_map(i) for i in range(20)])\n",
        "    for index, row in self.schedule.iterrows():\n",
        "      xs = [(row.start_A, row.end_A), (row.start_B, row.end_B)]\n",
        "      xmins = np.array([row.start_A, row.start_B])\n",
        "      xmaxs = np.array([row.end_A, row.end_B])\n",
        "      cs = xmins + (xmaxs - xmins) / 2\n",
        "      ys = [2, 1]\n",
        "      ax.hlines(\n",
        "          y=ys,\n",
        "          xmin=xmins,\n",
        "          xmax=xmaxs,\n",
        "          linestyle='solid',\n",
        "          linewidth=50,\n",
        "          label=index,\n",
        "          colors=[next(colors)])\n",
        "      for c, y in zip(cs, ys):\n",
        "        ax.text(\n",
        "            x=c,\n",
        "            y=y,\n",
        "            s=index,\n",
        "            ha='center',\n",
        "            va='center')\n",
        "    plt.yticks([1, 2], ['Machine_B', 'Machine_A'])\n",
        "    plt.ylim(0, 3)\n",
        "    ax.set_xlabel('Time')\n",
        "    ax.set_ylabel('Resource')\n",
        "    ax.set_title('Productioon schedule')\n",
        "    ax.grid(axis='x')\n",
        "    plt.show()\n",
        "  \n",
        "  def get_metrics(self):\n",
        "    \"\"\"Calculates metrics based on the production schedule\"\"\"\n",
        "    idle_A = 0\n",
        "    idle_B = 0\n",
        "    n = len(self.schedule)\n",
        "    for i in range(n):\n",
        "      if i > 0 and i < n - 1:\n",
        "        idle_A += self.schedule.start_A.iloc[i] - self.schedule.end_A.iloc[i - 1]\n",
        "      elif i == n - 1:\n",
        "        idle_A += self.schedule.end_B.iloc[i] - self.schedule.end_A.iloc[i]\n",
        "      if i == 0:\n",
        "        idle_B += self.schedule.start_B.iloc[i]\n",
        "      else:\n",
        "        idle_B += self.schedule.start_B.iloc[i] - self.schedule.end_B.iloc[i - 1]\n",
        "    metrics = ['makespan', 'average_flow_A', 'average_flow_B',\n",
        "               'idle_time_A', 'idle_time_B']\n",
        "    values = [self.schedule.end_B.iloc[-1], np.mean(self.schedule.end_A),\n",
        "              np.mean(self.schedule.end_B), idle_A, idle_B]\n",
        "    self.metrics = pd.DataFrame(data=values, index=metrics, columns=['value'])"
      ],
      "execution_count": 7,
      "outputs": []
    },
    {
      "cell_type": "markdown",
      "metadata": {
        "id": "PDCzv4UYQV94"
      },
      "source": [
        "#Creating a Scheduler"
      ]
    },
    {
      "cell_type": "code",
      "metadata": {
        "colab": {
          "base_uri": "https://localhost:8080/",
          "height": 359
        },
        "id": "kYYY95IaOddO",
        "outputId": "a88a6092-345c-4f33-cd29-03d6df734cc8"
      },
      "source": [
        "jobs = pd.DataFrame(\n",
        "    dict(\n",
        "        P_A = [8, 8, 3, 9, 8, 2, 6, 6, 18, 20],\n",
        "        P_B = [2.5, 2.5, 13, 6, 7, 14, 2, 2, 14, 11],\n",
        "    ),\n",
        "    index = ['A1', 'A2', 'B', 'C', 'D', 'E', 'F1', 'F2', 'G', 'H']\n",
        ")\n",
        "\n",
        "s = Scheduler(jobs)\n",
        "s.jobs"
      ],
      "execution_count": 8,
      "outputs": [
        {
          "output_type": "execute_result",
          "data": {
            "text/html": [
              "<div>\n",
              "<style scoped>\n",
              "    .dataframe tbody tr th:only-of-type {\n",
              "        vertical-align: middle;\n",
              "    }\n",
              "\n",
              "    .dataframe tbody tr th {\n",
              "        vertical-align: top;\n",
              "    }\n",
              "\n",
              "    .dataframe thead th {\n",
              "        text-align: right;\n",
              "    }\n",
              "</style>\n",
              "<table border=\"1\" class=\"dataframe\">\n",
              "  <thead>\n",
              "    <tr style=\"text-align: right;\">\n",
              "      <th></th>\n",
              "      <th>P_A</th>\n",
              "      <th>P_B</th>\n",
              "    </tr>\n",
              "  </thead>\n",
              "  <tbody>\n",
              "    <tr>\n",
              "      <th>A1</th>\n",
              "      <td>8</td>\n",
              "      <td>2.5</td>\n",
              "    </tr>\n",
              "    <tr>\n",
              "      <th>A2</th>\n",
              "      <td>8</td>\n",
              "      <td>2.5</td>\n",
              "    </tr>\n",
              "    <tr>\n",
              "      <th>B</th>\n",
              "      <td>3</td>\n",
              "      <td>13.0</td>\n",
              "    </tr>\n",
              "    <tr>\n",
              "      <th>C</th>\n",
              "      <td>9</td>\n",
              "      <td>6.0</td>\n",
              "    </tr>\n",
              "    <tr>\n",
              "      <th>D</th>\n",
              "      <td>8</td>\n",
              "      <td>7.0</td>\n",
              "    </tr>\n",
              "    <tr>\n",
              "      <th>E</th>\n",
              "      <td>2</td>\n",
              "      <td>14.0</td>\n",
              "    </tr>\n",
              "    <tr>\n",
              "      <th>F1</th>\n",
              "      <td>6</td>\n",
              "      <td>2.0</td>\n",
              "    </tr>\n",
              "    <tr>\n",
              "      <th>F2</th>\n",
              "      <td>6</td>\n",
              "      <td>2.0</td>\n",
              "    </tr>\n",
              "    <tr>\n",
              "      <th>G</th>\n",
              "      <td>18</td>\n",
              "      <td>14.0</td>\n",
              "    </tr>\n",
              "    <tr>\n",
              "      <th>H</th>\n",
              "      <td>20</td>\n",
              "      <td>11.0</td>\n",
              "    </tr>\n",
              "  </tbody>\n",
              "</table>\n",
              "</div>"
            ],
            "text/plain": [
              "    P_A   P_B\n",
              "A1    8   2.5\n",
              "A2    8   2.5\n",
              "B     3  13.0\n",
              "C     9   6.0\n",
              "D     8   7.0\n",
              "E     2  14.0\n",
              "F1    6   2.0\n",
              "F2    6   2.0\n",
              "G    18  14.0\n",
              "H    20  11.0"
            ]
          },
          "metadata": {
            "tags": []
          },
          "execution_count": 8
        }
      ]
    },
    {
      "cell_type": "markdown",
      "metadata": {
        "id": "WrfXKUE4QgAO"
      },
      "source": [
        "#Sorting the Jobs"
      ]
    },
    {
      "cell_type": "code",
      "metadata": {
        "colab": {
          "base_uri": "https://localhost:8080/",
          "height": 359
        },
        "id": "vxW1e1XUPFaO",
        "outputId": "d81725dd-45d2-44e4-a320-1d05c2c3f4f0"
      },
      "source": [
        "s.johnsons_algorithm()\n",
        "s.jobs"
      ],
      "execution_count": 9,
      "outputs": [
        {
          "output_type": "execute_result",
          "data": {
            "text/html": [
              "<div>\n",
              "<style scoped>\n",
              "    .dataframe tbody tr th:only-of-type {\n",
              "        vertical-align: middle;\n",
              "    }\n",
              "\n",
              "    .dataframe tbody tr th {\n",
              "        vertical-align: top;\n",
              "    }\n",
              "\n",
              "    .dataframe thead th {\n",
              "        text-align: right;\n",
              "    }\n",
              "</style>\n",
              "<table border=\"1\" class=\"dataframe\">\n",
              "  <thead>\n",
              "    <tr style=\"text-align: right;\">\n",
              "      <th></th>\n",
              "      <th>P_A</th>\n",
              "      <th>P_B</th>\n",
              "    </tr>\n",
              "  </thead>\n",
              "  <tbody>\n",
              "    <tr>\n",
              "      <th>E</th>\n",
              "      <td>2.0</td>\n",
              "      <td>14.0</td>\n",
              "    </tr>\n",
              "    <tr>\n",
              "      <th>B</th>\n",
              "      <td>3.0</td>\n",
              "      <td>13.0</td>\n",
              "    </tr>\n",
              "    <tr>\n",
              "      <th>G</th>\n",
              "      <td>18.0</td>\n",
              "      <td>14.0</td>\n",
              "    </tr>\n",
              "    <tr>\n",
              "      <th>H</th>\n",
              "      <td>20.0</td>\n",
              "      <td>11.0</td>\n",
              "    </tr>\n",
              "    <tr>\n",
              "      <th>D</th>\n",
              "      <td>8.0</td>\n",
              "      <td>7.0</td>\n",
              "    </tr>\n",
              "    <tr>\n",
              "      <th>C</th>\n",
              "      <td>9.0</td>\n",
              "      <td>6.0</td>\n",
              "    </tr>\n",
              "    <tr>\n",
              "      <th>A2</th>\n",
              "      <td>8.0</td>\n",
              "      <td>2.5</td>\n",
              "    </tr>\n",
              "    <tr>\n",
              "      <th>A1</th>\n",
              "      <td>8.0</td>\n",
              "      <td>2.5</td>\n",
              "    </tr>\n",
              "    <tr>\n",
              "      <th>F2</th>\n",
              "      <td>6.0</td>\n",
              "      <td>2.0</td>\n",
              "    </tr>\n",
              "    <tr>\n",
              "      <th>F1</th>\n",
              "      <td>6.0</td>\n",
              "      <td>2.0</td>\n",
              "    </tr>\n",
              "  </tbody>\n",
              "</table>\n",
              "</div>"
            ],
            "text/plain": [
              "     P_A   P_B\n",
              "E    2.0  14.0\n",
              "B    3.0  13.0\n",
              "G   18.0  14.0\n",
              "H   20.0  11.0\n",
              "D    8.0   7.0\n",
              "C    9.0   6.0\n",
              "A2   8.0   2.5\n",
              "A1   8.0   2.5\n",
              "F2   6.0   2.0\n",
              "F1   6.0   2.0"
            ]
          },
          "metadata": {
            "tags": []
          },
          "execution_count": 9
        }
      ]
    },
    {
      "cell_type": "markdown",
      "metadata": {
        "id": "W8cYnM27QlwB"
      },
      "source": [
        "#Generating a Schedule"
      ]
    },
    {
      "cell_type": "code",
      "metadata": {
        "colab": {
          "base_uri": "https://localhost:8080/",
          "height": 359
        },
        "id": "RFXekMZsPH9X",
        "outputId": "d225f483-b09f-4344-d633-0d1a388ce81a"
      },
      "source": [
        "s.schedule_start_end()\n",
        "s.schedule"
      ],
      "execution_count": 10,
      "outputs": [
        {
          "output_type": "execute_result",
          "data": {
            "text/html": [
              "<div>\n",
              "<style scoped>\n",
              "    .dataframe tbody tr th:only-of-type {\n",
              "        vertical-align: middle;\n",
              "    }\n",
              "\n",
              "    .dataframe tbody tr th {\n",
              "        vertical-align: top;\n",
              "    }\n",
              "\n",
              "    .dataframe thead th {\n",
              "        text-align: right;\n",
              "    }\n",
              "</style>\n",
              "<table border=\"1\" class=\"dataframe\">\n",
              "  <thead>\n",
              "    <tr style=\"text-align: right;\">\n",
              "      <th></th>\n",
              "      <th>P_A</th>\n",
              "      <th>P_B</th>\n",
              "      <th>start_A</th>\n",
              "      <th>end_A</th>\n",
              "      <th>start_B</th>\n",
              "      <th>end_B</th>\n",
              "    </tr>\n",
              "  </thead>\n",
              "  <tbody>\n",
              "    <tr>\n",
              "      <th>E</th>\n",
              "      <td>2.0</td>\n",
              "      <td>14.0</td>\n",
              "      <td>0.0</td>\n",
              "      <td>2.0</td>\n",
              "      <td>2.0</td>\n",
              "      <td>16.0</td>\n",
              "    </tr>\n",
              "    <tr>\n",
              "      <th>B</th>\n",
              "      <td>3.0</td>\n",
              "      <td>13.0</td>\n",
              "      <td>2.0</td>\n",
              "      <td>5.0</td>\n",
              "      <td>16.0</td>\n",
              "      <td>29.0</td>\n",
              "    </tr>\n",
              "    <tr>\n",
              "      <th>G</th>\n",
              "      <td>18.0</td>\n",
              "      <td>14.0</td>\n",
              "      <td>5.0</td>\n",
              "      <td>23.0</td>\n",
              "      <td>29.0</td>\n",
              "      <td>43.0</td>\n",
              "    </tr>\n",
              "    <tr>\n",
              "      <th>H</th>\n",
              "      <td>20.0</td>\n",
              "      <td>11.0</td>\n",
              "      <td>23.0</td>\n",
              "      <td>43.0</td>\n",
              "      <td>43.0</td>\n",
              "      <td>54.0</td>\n",
              "    </tr>\n",
              "    <tr>\n",
              "      <th>D</th>\n",
              "      <td>8.0</td>\n",
              "      <td>7.0</td>\n",
              "      <td>43.0</td>\n",
              "      <td>51.0</td>\n",
              "      <td>54.0</td>\n",
              "      <td>61.0</td>\n",
              "    </tr>\n",
              "    <tr>\n",
              "      <th>C</th>\n",
              "      <td>9.0</td>\n",
              "      <td>6.0</td>\n",
              "      <td>51.0</td>\n",
              "      <td>60.0</td>\n",
              "      <td>61.0</td>\n",
              "      <td>67.0</td>\n",
              "    </tr>\n",
              "    <tr>\n",
              "      <th>A2</th>\n",
              "      <td>8.0</td>\n",
              "      <td>2.5</td>\n",
              "      <td>60.0</td>\n",
              "      <td>68.0</td>\n",
              "      <td>68.0</td>\n",
              "      <td>70.5</td>\n",
              "    </tr>\n",
              "    <tr>\n",
              "      <th>A1</th>\n",
              "      <td>8.0</td>\n",
              "      <td>2.5</td>\n",
              "      <td>68.0</td>\n",
              "      <td>76.0</td>\n",
              "      <td>76.0</td>\n",
              "      <td>78.5</td>\n",
              "    </tr>\n",
              "    <tr>\n",
              "      <th>F2</th>\n",
              "      <td>6.0</td>\n",
              "      <td>2.0</td>\n",
              "      <td>76.0</td>\n",
              "      <td>82.0</td>\n",
              "      <td>82.0</td>\n",
              "      <td>84.0</td>\n",
              "    </tr>\n",
              "    <tr>\n",
              "      <th>F1</th>\n",
              "      <td>6.0</td>\n",
              "      <td>2.0</td>\n",
              "      <td>82.0</td>\n",
              "      <td>88.0</td>\n",
              "      <td>88.0</td>\n",
              "      <td>90.0</td>\n",
              "    </tr>\n",
              "  </tbody>\n",
              "</table>\n",
              "</div>"
            ],
            "text/plain": [
              "     P_A   P_B  start_A  end_A  start_B  end_B\n",
              "E    2.0  14.0      0.0    2.0      2.0   16.0\n",
              "B    3.0  13.0      2.0    5.0     16.0   29.0\n",
              "G   18.0  14.0      5.0   23.0     29.0   43.0\n",
              "H   20.0  11.0     23.0   43.0     43.0   54.0\n",
              "D    8.0   7.0     43.0   51.0     54.0   61.0\n",
              "C    9.0   6.0     51.0   60.0     61.0   67.0\n",
              "A2   8.0   2.5     60.0   68.0     68.0   70.5\n",
              "A1   8.0   2.5     68.0   76.0     76.0   78.5\n",
              "F2   6.0   2.0     76.0   82.0     82.0   84.0\n",
              "F1   6.0   2.0     82.0   88.0     88.0   90.0"
            ]
          },
          "metadata": {
            "tags": []
          },
          "execution_count": 10
        }
      ]
    },
    {
      "cell_type": "markdown",
      "metadata": {
        "id": "KFUHHkA0Qp1q"
      },
      "source": [
        "#Calculating Metrics"
      ]
    },
    {
      "cell_type": "code",
      "metadata": {
        "colab": {
          "base_uri": "https://localhost:8080/",
          "height": 204
        },
        "id": "Hbt_Afn-PJ3O",
        "outputId": "fea402e8-fde0-4538-dc99-bf578671ee8b"
      },
      "source": [
        "s.get_metrics()\n",
        "s.metrics"
      ],
      "execution_count": 11,
      "outputs": [
        {
          "output_type": "execute_result",
          "data": {
            "text/html": [
              "<div>\n",
              "<style scoped>\n",
              "    .dataframe tbody tr th:only-of-type {\n",
              "        vertical-align: middle;\n",
              "    }\n",
              "\n",
              "    .dataframe tbody tr th {\n",
              "        vertical-align: top;\n",
              "    }\n",
              "\n",
              "    .dataframe thead th {\n",
              "        text-align: right;\n",
              "    }\n",
              "</style>\n",
              "<table border=\"1\" class=\"dataframe\">\n",
              "  <thead>\n",
              "    <tr style=\"text-align: right;\">\n",
              "      <th></th>\n",
              "      <th>value</th>\n",
              "    </tr>\n",
              "  </thead>\n",
              "  <tbody>\n",
              "    <tr>\n",
              "      <th>makespan</th>\n",
              "      <td>90.0</td>\n",
              "    </tr>\n",
              "    <tr>\n",
              "      <th>average_flow_A</th>\n",
              "      <td>49.8</td>\n",
              "    </tr>\n",
              "    <tr>\n",
              "      <th>average_flow_B</th>\n",
              "      <td>59.3</td>\n",
              "    </tr>\n",
              "    <tr>\n",
              "      <th>idle_time_A</th>\n",
              "      <td>2.0</td>\n",
              "    </tr>\n",
              "    <tr>\n",
              "      <th>idle_time_B</th>\n",
              "      <td>16.0</td>\n",
              "    </tr>\n",
              "  </tbody>\n",
              "</table>\n",
              "</div>"
            ],
            "text/plain": [
              "                value\n",
              "makespan         90.0\n",
              "average_flow_A   49.8\n",
              "average_flow_B   59.3\n",
              "idle_time_A       2.0\n",
              "idle_time_B      16.0"
            ]
          },
          "metadata": {
            "tags": []
          },
          "execution_count": 11
        }
      ]
    },
    {
      "cell_type": "markdown",
      "metadata": {
        "id": "FyyngwGSQs75"
      },
      "source": [
        "#Visualizing the Schedule"
      ]
    },
    {
      "cell_type": "code",
      "metadata": {
        "colab": {
          "base_uri": "https://localhost:8080/",
          "height": 350
        },
        "id": "-ef5qtQBPLho",
        "outputId": "e1d51c15-46f9-4242-c831-c054a09c0313"
      },
      "source": [
        "s.plot_schedule()"
      ],
      "execution_count": 12,
      "outputs": [
        {
          "output_type": "display_data",
          "data": {
            "image/png": "[encoded data removed]",
            "text/plain": [
              "<Figure size 1080x360 with 1 Axes>"
            ]
          },
          "metadata": {
            "tags": [],
            "needs_background": "light"
          }
        }
      ]
    }
  ]
}
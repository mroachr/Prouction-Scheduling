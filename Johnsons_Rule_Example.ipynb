{
  "nbformat": 4,
  "nbformat_minor": 0,
  "metadata": {
    "colab": {
      "name": "Johnsons-Rule-Example.ipynb",
      "provenance": [],
      "authorship_tag": "ABX9TyMwesZghaLaEOh5LzrJZzuS",
      "include_colab_link": true
    },
    "kernelspec": {
      "name": "python3",
      "display_name": "Python 3"
    },
    "language_info": {
      "name": "python"
    }
  },
  "cells": [
    {
      "cell_type": "markdown",
      "metadata": {
        "id": "view-in-github",
        "colab_type": "text"
      },
      "source": [
        "<a href=\"https://colab.research.google.com/github/mroachr/Prouction-Scheduling/blob/main/Johnsons_Rule_Example.ipynb\" target=\"_parent\"><img src=\"https://colab.research.google.com/assets/colab-badge.svg\" alt=\"Open In Colab\"/></a>"
      ]
    },
    {
      "cell_type": "markdown",
      "metadata": {
        "id": "yrtZ7UcIVhF4"
      },
      "source": [
        "# Importing scheduler class (Google Colab)"
      ]
    },
    {
      "cell_type": "code",
      "metadata": {
        "colab": {
          "base_uri": "https://localhost:8080/"
        },
        "id": "2Ibs-KhtUF4I",
        "outputId": "6ea4ac16-bfa2-439e-cf31-b2db94e37db7"
      },
      "source": [
        "!wget https://raw.githubusercontent.com/mroachr/Prouction-Scheduling/main/JohnsonsScheduler.py"
      ],
      "execution_count": 1,
      "outputs": [
        {
          "output_type": "stream",
          "text": [
            "--2021-08-29 19:09:24--  https://raw.githubusercontent.com/mroachr/Prouction-Scheduling/main/JohnsonsScheduler.py\n",
            "Resolving raw.githubusercontent.com (raw.githubusercontent.com)... 185.199.108.133, 185.199.109.133, 185.199.110.133, ...\n",
            "Connecting to raw.githubusercontent.com (raw.githubusercontent.com)|185.199.108.133|:443... connected.\n",
            "HTTP request sent, awaiting response... 200 OK\n",
            "Length: 5312 (5.2K) [text/plain]\n",
            "Saving to: ‘JohnsonsScheduler.py’\n",
            "\n",
            "\rJohnsonsScheduler.p   0%[                    ]       0  --.-KB/s               \rJohnsonsScheduler.p 100%[===================>]   5.19K  --.-KB/s    in 0s      \n",
            "\n",
            "2021-08-29 19:09:24 (73.4 MB/s) - ‘JohnsonsScheduler.py’ saved [5312/5312]\n",
            "\n"
          ],
          "name": "stdout"
        }
      ]
    },
    {
      "cell_type": "code",
      "metadata": {
        "id": "3SrvvG-tUNrM"
      },
      "source": [
        "from JohnsonsScheduler import JohnsonsScheduler"
      ],
      "execution_count": 3,
      "outputs": []
    },
    {
      "cell_type": "markdown",
      "metadata": {
        "id": "tpnhM9VCVGSp"
      },
      "source": [
        "# Create example data and create scheduler object"
      ]
    },
    {
      "cell_type": "code",
      "metadata": {
        "id": "dJ-215hQUTws"
      },
      "source": [
        "job_names = ['A', 'B', 'C', 'D', 'E']\n",
        "job_processing_times_A = [3.2, 4.7, 2.2, 5.8, 3.1]\n",
        "job_processing_times_B = [4.2, 1.5, 5.0, 4.0, 2.8]"
      ],
      "execution_count": 4,
      "outputs": []
    },
    {
      "cell_type": "code",
      "metadata": {
        "colab": {
          "base_uri": "https://localhost:8080/",
          "height": 204
        },
        "id": "prdZNIxoUaZn",
        "outputId": "fd82f639-ba56-4caf-ab61-618819eb8f8f"
      },
      "source": [
        "jobs = JohnsonsScheduler(\n",
        "    processing_times_A=job_processing_times_A,\n",
        "    processing_times_B=job_processing_times_B,\n",
        "    names=job_names,\n",
        "    seed=42)\n",
        "\n",
        "jobs.jobs"
      ],
      "execution_count": 5,
      "outputs": [
        {
          "output_type": "execute_result",
          "data": {
            "text/html": [
              "<div>\n",
              "<style scoped>\n",
              "    .dataframe tbody tr th:only-of-type {\n",
              "        vertical-align: middle;\n",
              "    }\n",
              "\n",
              "    .dataframe tbody tr th {\n",
              "        vertical-align: top;\n",
              "    }\n",
              "\n",
              "    .dataframe thead th {\n",
              "        text-align: right;\n",
              "    }\n",
              "</style>\n",
              "<table border=\"1\" class=\"dataframe\">\n",
              "  <thead>\n",
              "    <tr style=\"text-align: right;\">\n",
              "      <th></th>\n",
              "      <th>A</th>\n",
              "      <th>B</th>\n",
              "    </tr>\n",
              "  </thead>\n",
              "  <tbody>\n",
              "    <tr>\n",
              "      <th>A</th>\n",
              "      <td>3.2</td>\n",
              "      <td>4.2</td>\n",
              "    </tr>\n",
              "    <tr>\n",
              "      <th>B</th>\n",
              "      <td>4.7</td>\n",
              "      <td>1.5</td>\n",
              "    </tr>\n",
              "    <tr>\n",
              "      <th>C</th>\n",
              "      <td>2.2</td>\n",
              "      <td>5.0</td>\n",
              "    </tr>\n",
              "    <tr>\n",
              "      <th>D</th>\n",
              "      <td>5.8</td>\n",
              "      <td>4.0</td>\n",
              "    </tr>\n",
              "    <tr>\n",
              "      <th>E</th>\n",
              "      <td>3.1</td>\n",
              "      <td>2.8</td>\n",
              "    </tr>\n",
              "  </tbody>\n",
              "</table>\n",
              "</div>"
            ],
            "text/plain": [
              "     A    B\n",
              "A  3.2  4.2\n",
              "B  4.7  1.5\n",
              "C  2.2  5.0\n",
              "D  5.8  4.0\n",
              "E  3.1  2.8"
            ]
          },
          "metadata": {},
          "execution_count": 5
        }
      ]
    },
    {
      "cell_type": "markdown",
      "metadata": {
        "id": "34O05eiOVP3L"
      },
      "source": [
        "# Apply Johnsons rule/algo."
      ]
    },
    {
      "cell_type": "code",
      "metadata": {
        "colab": {
          "base_uri": "https://localhost:8080/"
        },
        "id": "XJj_t4evUsJZ",
        "outputId": "b42d0355-8017-428c-aac6-803d635d04ac"
      },
      "source": [
        "jobs.calculate_schedule()\n",
        "jobs.sequence"
      ],
      "execution_count": 6,
      "outputs": [
        {
          "output_type": "execute_result",
          "data": {
            "text/plain": [
              "['C', 'A', 'D', 'E', 'B']"
            ]
          },
          "metadata": {},
          "execution_count": 6
        }
      ]
    },
    {
      "cell_type": "code",
      "metadata": {
        "colab": {
          "base_uri": "https://localhost:8080/",
          "height": 204
        },
        "id": "RUXV7GFNU1Qy",
        "outputId": "81982221-5ca2-497d-a441-a3e4325ee0b6"
      },
      "source": [
        "jobs.schedule"
      ],
      "execution_count": 7,
      "outputs": [
        {
          "output_type": "execute_result",
          "data": {
            "text/html": [
              "<div>\n",
              "<style scoped>\n",
              "    .dataframe tbody tr th:only-of-type {\n",
              "        vertical-align: middle;\n",
              "    }\n",
              "\n",
              "    .dataframe tbody tr th {\n",
              "        vertical-align: top;\n",
              "    }\n",
              "\n",
              "    .dataframe thead th {\n",
              "        text-align: right;\n",
              "    }\n",
              "</style>\n",
              "<table border=\"1\" class=\"dataframe\">\n",
              "  <thead>\n",
              "    <tr style=\"text-align: right;\">\n",
              "      <th></th>\n",
              "      <th>A</th>\n",
              "      <th>B</th>\n",
              "      <th>start_A</th>\n",
              "      <th>end_A</th>\n",
              "      <th>start_B</th>\n",
              "      <th>end_B</th>\n",
              "    </tr>\n",
              "  </thead>\n",
              "  <tbody>\n",
              "    <tr>\n",
              "      <th>C</th>\n",
              "      <td>2.2</td>\n",
              "      <td>5.0</td>\n",
              "      <td>0.0</td>\n",
              "      <td>2.2</td>\n",
              "      <td>2.2</td>\n",
              "      <td>7.2</td>\n",
              "    </tr>\n",
              "    <tr>\n",
              "      <th>A</th>\n",
              "      <td>3.2</td>\n",
              "      <td>4.2</td>\n",
              "      <td>2.2</td>\n",
              "      <td>5.4</td>\n",
              "      <td>7.2</td>\n",
              "      <td>11.4</td>\n",
              "    </tr>\n",
              "    <tr>\n",
              "      <th>D</th>\n",
              "      <td>5.8</td>\n",
              "      <td>4.0</td>\n",
              "      <td>5.4</td>\n",
              "      <td>11.2</td>\n",
              "      <td>11.4</td>\n",
              "      <td>15.4</td>\n",
              "    </tr>\n",
              "    <tr>\n",
              "      <th>E</th>\n",
              "      <td>3.1</td>\n",
              "      <td>2.8</td>\n",
              "      <td>11.2</td>\n",
              "      <td>14.3</td>\n",
              "      <td>15.4</td>\n",
              "      <td>18.2</td>\n",
              "    </tr>\n",
              "    <tr>\n",
              "      <th>B</th>\n",
              "      <td>4.7</td>\n",
              "      <td>1.5</td>\n",
              "      <td>14.3</td>\n",
              "      <td>19.0</td>\n",
              "      <td>19.0</td>\n",
              "      <td>20.5</td>\n",
              "    </tr>\n",
              "  </tbody>\n",
              "</table>\n",
              "</div>"
            ],
            "text/plain": [
              "     A    B  start_A  end_A  start_B  end_B\n",
              "C  2.2  5.0      0.0    2.2      2.2    7.2\n",
              "A  3.2  4.2      2.2    5.4      7.2   11.4\n",
              "D  5.8  4.0      5.4   11.2     11.4   15.4\n",
              "E  3.1  2.8     11.2   14.3     15.4   18.2\n",
              "B  4.7  1.5     14.3   19.0     19.0   20.5"
            ]
          },
          "metadata": {},
          "execution_count": 7
        }
      ]
    },
    {
      "cell_type": "markdown",
      "metadata": {
        "id": "kmVZipZxVWf2"
      },
      "source": [
        "# Visualize the sorted schedule"
      ]
    },
    {
      "cell_type": "code",
      "metadata": {
        "colab": {
          "base_uri": "https://localhost:8080/",
          "height": 350
        },
        "id": "PHftqwR5U2eH",
        "outputId": "22222187-26c5-48fd-bae3-186365510eba"
      },
      "source": [
        "jobs.visualize()"
      ],
      "execution_count": 8,
      "outputs": [
        {
          "output_type": "display_data",
          "data": {
            "image/png": "[encoded data removed]",
            "text/plain": [
              "<Figure size 1080x360 with 1 Axes>"
            ]
          },
          "metadata": {
            "needs_background": "light"
          }
        }
      ]
    },
    {
      "cell_type": "markdown",
      "metadata": {
        "id": "Gz1-BT0nVaDF"
      },
      "source": [
        "# Get performance metrics"
      ]
    },
    {
      "cell_type": "code",
      "metadata": {
        "colab": {
          "base_uri": "https://localhost:8080/",
          "height": 204
        },
        "id": "KzxAQareU5Yb",
        "outputId": "83f59dd7-6c5b-4efb-886e-9713753d6bef"
      },
      "source": [
        "jobs.get_metrics()\n",
        "jobs.metrics"
      ],
      "execution_count": 9,
      "outputs": [
        {
          "output_type": "execute_result",
          "data": {
            "text/html": [
              "<div>\n",
              "<style scoped>\n",
              "    .dataframe tbody tr th:only-of-type {\n",
              "        vertical-align: middle;\n",
              "    }\n",
              "\n",
              "    .dataframe tbody tr th {\n",
              "        vertical-align: top;\n",
              "    }\n",
              "\n",
              "    .dataframe thead th {\n",
              "        text-align: right;\n",
              "    }\n",
              "</style>\n",
              "<table border=\"1\" class=\"dataframe\">\n",
              "  <thead>\n",
              "    <tr style=\"text-align: right;\">\n",
              "      <th></th>\n",
              "      <th>value</th>\n",
              "    </tr>\n",
              "  </thead>\n",
              "  <tbody>\n",
              "    <tr>\n",
              "      <th>makespan</th>\n",
              "      <td>20.50</td>\n",
              "    </tr>\n",
              "    <tr>\n",
              "      <th>average_flow_A</th>\n",
              "      <td>10.42</td>\n",
              "    </tr>\n",
              "    <tr>\n",
              "      <th>average_flow_B</th>\n",
              "      <td>14.54</td>\n",
              "    </tr>\n",
              "    <tr>\n",
              "      <th>idle_time_A</th>\n",
              "      <td>1.50</td>\n",
              "    </tr>\n",
              "    <tr>\n",
              "      <th>idle_time_B</th>\n",
              "      <td>3.00</td>\n",
              "    </tr>\n",
              "  </tbody>\n",
              "</table>\n",
              "</div>"
            ],
            "text/plain": [
              "                value\n",
              "makespan        20.50\n",
              "average_flow_A  10.42\n",
              "average_flow_B  14.54\n",
              "idle_time_A      1.50\n",
              "idle_time_B      3.00"
            ]
          },
          "metadata": {},
          "execution_count": 9
        }
      ]
    }
  ]
}